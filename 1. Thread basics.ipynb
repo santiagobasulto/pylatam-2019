{
 "cells": [
  {
   "cell_type": "code",
   "execution_count": null,
   "metadata": {},
   "outputs": [],
   "source": [
    "import time\n",
    "import threading"
   ]
  },
  {
   "cell_type": "code",
   "execution_count": null,
   "metadata": {},
   "outputs": [],
   "source": [
    "TIME_TO_SLEEP = 3"
   ]
  },
  {
   "cell_type": "markdown",
   "metadata": {},
   "source": [
    "## Passing `target` function"
   ]
  },
  {
   "cell_type": "code",
   "execution_count": null,
   "metadata": {},
   "outputs": [],
   "source": [
    "def get_website_data(site):\n",
    "    time.sleep(TIME_TO_SLEEP)\n",
    "    print(f\"Returning data from site: {site}!\")"
   ]
  },
  {
   "cell_type": "code",
   "execution_count": null,
   "metadata": {},
   "outputs": [],
   "source": [
    "t1 = threading.Thread(target=get_website_data, args=('Google', ))\n",
    "t2 = threading.Thread(target=get_website_data, args=('Yahoo', ))\n",
    "t3 = threading.Thread(target=get_website_data, args=('Microsoft', ))"
   ]
  },
  {
   "cell_type": "code",
   "execution_count": null,
   "metadata": {},
   "outputs": [],
   "source": [
    "t1.start()\n",
    "t2.start()\n",
    "t3.start()\n",
    "print(\"Threads stated!\")"
   ]
  },
  {
   "cell_type": "code",
   "execution_count": null,
   "metadata": {},
   "outputs": [],
   "source": [
    "t1.join()\n",
    "t2.join()\n",
    "t3.join()"
   ]
  },
  {
   "cell_type": "markdown",
   "metadata": {},
   "source": [
    "## Subclassing `threading.Thread`"
   ]
  },
  {
   "cell_type": "code",
   "execution_count": null,
   "metadata": {},
   "outputs": [],
   "source": [
    "class WebsiteDataThread(threading.Thread):\n",
    "    def __init__(self, site, *args, **kwargs):\n",
    "        super().__init__(*args, **kwargs)\n",
    "        self.site = site\n",
    "        \n",
    "    def run(self):\n",
    "        time.sleep(TIME_TO_SLEEP)\n",
    "        print(f\"Returning data from site: {self.site}!\")"
   ]
  },
  {
   "cell_type": "code",
   "execution_count": null,
   "metadata": {},
   "outputs": [],
   "source": [
    "t1 = WebsiteDataThread('Google')\n",
    "t2 = WebsiteDataThread('Yahoo')\n",
    "t3 = WebsiteDataThread('Microsoft')"
   ]
  },
  {
   "cell_type": "code",
   "execution_count": null,
   "metadata": {},
   "outputs": [],
   "source": [
    "t1.start()\n",
    "t2.start()\n",
    "t3.start()\n",
    "print(\"Threads stated!\")"
   ]
  },
  {
   "cell_type": "code",
   "execution_count": null,
   "metadata": {},
   "outputs": [],
   "source": [
    "t1.join()\n",
    "t2.join()\n",
    "t3.join()"
   ]
  }
 ],
 "metadata": {
  "kernelspec": {
   "display_name": "Python 3",
   "language": "python",
   "name": "python3"
  },
  "language_info": {
   "codemirror_mode": {
    "name": "ipython",
    "version": 3
   },
   "file_extension": ".py",
   "mimetype": "text/x-python",
   "name": "python",
   "nbconvert_exporter": "python",
   "pygments_lexer": "ipython3",
   "version": "3.7.4"
  }
 },
 "nbformat": 4,
 "nbformat_minor": 2
}
