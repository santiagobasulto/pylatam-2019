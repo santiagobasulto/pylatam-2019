{
 "cells": [
  {
   "cell_type": "code",
   "execution_count": 1,
   "metadata": {},
   "outputs": [],
   "source": [
    "import random\n",
    "import itertools\n",
    "import threading\n",
    "import queue\n",
    "from concurrent.futures import ThreadPoolExecutor, as_completed\n",
    "\n",
    "import requests\n",
    "import pandas as pd\n",
    "import speaker_buddy as buddy"
   ]
  },
  {
   "cell_type": "markdown",
   "metadata": {},
   "source": [
    "### Exchanges"
   ]
  },
  {
   "cell_type": "code",
   "execution_count": 2,
   "metadata": {},
   "outputs": [],
   "source": [
    "EXCHANGES= [\n",
    "    'bitfinex',\n",
    "    'coinbase-pro',\n",
    "    'bitstamp',\n",
    "    'kraken',\n",
    "    'cexio',\n",
    "    'okcoin',\n",
    "    'bitmex',\n",
    "    'mexbt',\n",
    "    'huobi',\n",
    "    'poloniex',\n",
    "    'bittrex',\n",
    "    'okex',\n",
    "    'hitbtc'\n",
    "]"
   ]
  },
  {
   "cell_type": "markdown",
   "metadata": {},
   "source": [
    "### Symbols"
   ]
  },
  {
   "cell_type": "code",
   "execution_count": 3,
   "metadata": {},
   "outputs": [],
   "source": [
    "SYMBOLS = ['btc', 'ltc', 'eth']"
   ]
  },
  {
   "cell_type": "markdown",
   "metadata": {},
   "source": [
    "### Combinations"
   ]
  },
  {
   "cell_type": "code",
   "execution_count": 4,
   "metadata": {},
   "outputs": [],
   "source": [
    "ALL_COMBINATIONS = list(itertools.product(EXCHANGES, SYMBOLS))"
   ]
  },
  {
   "cell_type": "markdown",
   "metadata": {},
   "source": [
    "### Random Combinatios"
   ]
  },
  {
   "cell_type": "code",
   "execution_count": 5,
   "metadata": {},
   "outputs": [],
   "source": [
    "combinations = [random.choice(ALL_COMBINATIONS) for _ in range(10)]"
   ]
  },
  {
   "cell_type": "markdown",
   "metadata": {},
   "source": [
    "### Random Dates"
   ]
  },
  {
   "cell_type": "code",
   "execution_count": 6,
   "metadata": {},
   "outputs": [],
   "source": [
    "ALL_DATES = [d.strftime('%Y-%m-%d') for d in pd.date_range('2019-01-01', '2019-07-20', freq='D')]"
   ]
  },
  {
   "cell_type": "code",
   "execution_count": 7,
   "metadata": {},
   "outputs": [],
   "source": [
    "dates = [random.choice(ALL_DATES) for _ in range(5)]"
   ]
  },
  {
   "cell_type": "markdown",
   "metadata": {},
   "source": [
    "### Summary"
   ]
  },
  {
   "cell_type": "code",
   "execution_count": 8,
   "metadata": {},
   "outputs": [
    {
     "data": {
      "text/plain": [
       "['2019-01-11', '2019-03-07', '2019-03-31', '2019-04-04', '2019-02-25']"
      ]
     },
     "execution_count": 8,
     "metadata": {},
     "output_type": "execute_result"
    }
   ],
   "source": [
    "dates"
   ]
  },
  {
   "cell_type": "code",
   "execution_count": 9,
   "metadata": {},
   "outputs": [
    {
     "data": {
      "text/plain": [
       "[('huobi', 'btc'),\n",
       " ('bitfinex', 'ltc'),\n",
       " ('bittrex', 'btc'),\n",
       " ('cexio', 'eth'),\n",
       " ('kraken', 'btc'),\n",
       " ('okex', 'ltc'),\n",
       " ('poloniex', 'btc'),\n",
       " ('hitbtc', 'ltc'),\n",
       " ('bittrex', 'eth'),\n",
       " ('okex', 'btc')]"
      ]
     },
     "execution_count": 9,
     "metadata": {},
     "output_type": "execute_result"
    }
   ],
   "source": [
    "combinations"
   ]
  },
  {
   "cell_type": "code",
   "execution_count": 10,
   "metadata": {},
   "outputs": [
    {
     "data": {
      "text/plain": [
       "[(('huobi', 'btc'), '2019-01-11'),\n",
       " (('huobi', 'btc'), '2019-03-07'),\n",
       " (('huobi', 'btc'), '2019-03-31')]"
      ]
     },
     "execution_count": 10,
     "metadata": {},
     "output_type": "execute_result"
    }
   ],
   "source": [
    "data = list(itertools.product(combinations, dates))\n",
    "data[:3]"
   ]
  },
  {
   "cell_type": "code",
   "execution_count": 11,
   "metadata": {},
   "outputs": [],
   "source": [
    "URL = 'http://localhost:5000/price/{exchange}/{symbol}/{date}'"
   ]
  },
  {
   "cell_type": "code",
   "execution_count": 12,
   "metadata": {},
   "outputs": [],
   "source": [
    "price_urls = [\n",
    "        URL.format(exchange=exchange, symbol=symbol, date=date)\n",
    "    for (exchange, symbol), date in data]"
   ]
  },
  {
   "cell_type": "code",
   "execution_count": 13,
   "metadata": {
    "scrolled": false
   },
   "outputs": [
    {
     "data": {
      "text/plain": [
       "['http://localhost:5000/price/huobi/btc/2019-01-11',\n",
       " 'http://localhost:5000/price/huobi/btc/2019-03-07',\n",
       " 'http://localhost:5000/price/huobi/btc/2019-03-31']"
      ]
     },
     "execution_count": 13,
     "metadata": {},
     "output_type": "execute_result"
    }
   ],
   "source": [
    "price_urls[:3]"
   ]
  },
  {
   "cell_type": "code",
   "execution_count": 14,
   "metadata": {},
   "outputs": [
    {
     "data": {
      "text/plain": [
       "50"
      ]
     },
     "execution_count": 14,
     "metadata": {},
     "output_type": "execute_result"
    }
   ],
   "source": [
    "len(price_urls)"
   ]
  },
  {
   "cell_type": "markdown",
   "metadata": {},
   "source": [
    "### A simple test"
   ]
  },
  {
   "cell_type": "code",
   "execution_count": 15,
   "metadata": {},
   "outputs": [],
   "source": [
    "resp = requests.get(price_urls[0])"
   ]
  },
  {
   "cell_type": "code",
   "execution_count": 16,
   "metadata": {},
   "outputs": [
    {
     "data": {
      "text/plain": [
       "{'exchange': 'huobi',\n",
       " 'symbol': 'btc',\n",
       " 'open': 3966.68,\n",
       " 'high': 3994,\n",
       " 'low': 3542.03,\n",
       " 'close': 3585.36,\n",
       " 'volume': 8606.622285621284,\n",
       " 'day': '2019-01-11'}"
      ]
     },
     "execution_count": 16,
     "metadata": {},
     "output_type": "execute_result"
    }
   ],
   "source": [
    "resp.json()"
   ]
  },
  {
   "cell_type": "markdown",
   "metadata": {},
   "source": [
    "We'll do the same thing for all of them."
   ]
  },
  {
   "cell_type": "markdown",
   "metadata": {},
   "source": [
    "---"
   ]
  },
  {
   "cell_type": "markdown",
   "metadata": {},
   "source": [
    "# Multi threaded"
   ]
  },
  {
   "cell_type": "code",
   "execution_count": 17,
   "metadata": {},
   "outputs": [],
   "source": [
    "THREAD_COUNT = 5"
   ]
  },
  {
   "cell_type": "code",
   "execution_count": 18,
   "metadata": {},
   "outputs": [],
   "source": [
    "import queue"
   ]
  },
  {
   "cell_type": "code",
   "execution_count": 19,
   "metadata": {},
   "outputs": [],
   "source": [
    "url_queue = queue.Queue()\n",
    "results_queue = queue.Queue()\n",
    "for url in price_urls:\n",
    "    url_queue.put(url)"
   ]
  },
  {
   "cell_type": "code",
   "execution_count": 20,
   "metadata": {},
   "outputs": [],
   "source": [
    "import time\n",
    "class PriceProcessThread(threading.Thread):\n",
    "    def __init__(self, url_queue, results_queue, *args, **kwargs):\n",
    "        super().__init__(*args, **kwargs)\n",
    "        self.url_queue = url_queue\n",
    "        self.results_queue = results_queue\n",
    "        \n",
    "    def run(self):\n",
    "        while True:\n",
    "            url = self.url_queue.get()\n",
    "            resp = requests.get(url)\n",
    "            self.results_queue.put((url, resp.json()))\n",
    "            self.url_queue.task_done()"
   ]
  },
  {
   "cell_type": "code",
   "execution_count": 21,
   "metadata": {
    "scrolled": true
   },
   "outputs": [],
   "source": [
    "for _ in range(THREAD_COUNT):\n",
    "    worker = PriceProcessThread(url_queue, results_queue, daemon=True)\n",
    "    worker.start()"
   ]
  },
  {
   "cell_type": "code",
   "execution_count": 22,
   "metadata": {},
   "outputs": [],
   "source": [
    "url_queue.join()"
   ]
  },
  {
   "cell_type": "code",
   "execution_count": 23,
   "metadata": {},
   "outputs": [
    {
     "data": {
      "text/plain": [
       "0"
      ]
     },
     "execution_count": 23,
     "metadata": {},
     "output_type": "execute_result"
    }
   ],
   "source": [
    "url_queue.qsize()"
   ]
  },
  {
   "cell_type": "code",
   "execution_count": 24,
   "metadata": {
    "scrolled": true
   },
   "outputs": [
    {
     "data": {
      "text/plain": [
       "50"
      ]
     },
     "execution_count": 24,
     "metadata": {},
     "output_type": "execute_result"
    }
   ],
   "source": [
    "results_queue.qsize()"
   ]
  },
  {
   "cell_type": "code",
   "execution_count": 25,
   "metadata": {},
   "outputs": [],
   "source": [
    "EXCHANGES = {}"
   ]
  },
  {
   "cell_type": "code",
   "execution_count": 26,
   "metadata": {
    "scrolled": false
   },
   "outputs": [
    {
     "name": "stdout",
     "output_type": "stream",
     "text": [
      "2019-03-07 - huobi - BTC: 3861.99\n",
      "2019-01-11 - huobi - BTC: 3585.36\n",
      "2019-02-25 - huobi - BTC: 3747.86\n",
      "2019-03-31 - huobi - BTC: 4109.92\n",
      "2019-04-04 - huobi - BTC: 4944\n",
      "2019-03-07 - bitfinex - LTC: None\n",
      "2019-02-25 - bitfinex - LTC: None\n",
      "2019-01-11 - bitfinex - LTC: None\n",
      "2019-04-04 - bitfinex - LTC: None\n",
      "2019-03-31 - bitfinex - LTC: None\n",
      "2019-02-25 - bittrex - BTC: 3728.322\n",
      "2019-01-11 - bittrex - BTC: 3628\n",
      "2019-03-07 - bittrex - BTC: 3852.815\n",
      "2019-04-04 - bittrex - BTC: 4970.639\n",
      "2019-03-31 - bittrex - BTC: 4094.4440000000004\n",
      "2019-03-07 - cexio - ETH: 139.32\n",
      "2019-01-11 - cexio - ETH: 129.76\n",
      "2019-03-31 - cexio - ETH: 143.64\n",
      "2019-02-25 - cexio - ETH: 132.7\n",
      "2019-04-04 - cexio - ETH: 161.7\n",
      "2019-01-11 - kraken - BTC: 3623.5\n",
      "2019-03-31 - kraken - BTC: 4090.9\n",
      "2019-04-04 - kraken - BTC: 4972.2\n",
      "2019-03-07 - kraken - BTC: 3851.7\n",
      "2019-02-25 - kraken - BTC: 3732.2\n",
      "2019-01-11 - okex - LTC: 32.8011\n",
      "2019-03-31 - okex - LTC: 60.44\n",
      "2019-03-07 - okex - LTC: 55.3625\n",
      "2019-04-04 - okex - LTC: 85.2\n",
      "2019-02-25 - okex - LTC: None\n",
      "2019-03-07 - poloniex - BTC: 3861.94211998\n",
      "2019-01-11 - poloniex - BTC: 3586.278\n",
      "2019-03-31 - poloniex - BTC: 4105.3\n",
      "2019-04-04 - poloniex - BTC: 4939.9\n",
      "2019-02-25 - poloniex - BTC: 3750.94339887\n",
      "2019-01-11 - hitbtc - LTC: 33.033\n",
      "2019-03-31 - hitbtc - LTC: 60.4409\n",
      "2019-03-07 - hitbtc - LTC: 55.3596\n",
      "2019-02-25 - hitbtc - LTC: 43.7684\n",
      "2019-04-04 - hitbtc - LTC: 85.1948\n",
      "2019-03-07 - bittrex - ETH: 137.15200000000002\n",
      "2019-02-25 - bittrex - ETH: 131.68200000000002\n",
      "2019-04-04 - bittrex - ETH: 160.954\n",
      "2019-03-31 - bittrex - ETH: 142.231\n",
      "2019-01-11 - bittrex - ETH: 127.27\n",
      "2019-01-11 - okex - BTC: 3585.3606\n",
      "2019-03-31 - okex - BTC: 4107.9\n",
      "2019-04-04 - okex - BTC: 4943.4\n",
      "2019-02-25 - okex - BTC: None\n",
      "2019-03-07 - okex - BTC: 3863.5024\n"
     ]
    }
   ],
   "source": [
    "while not results_queue.empty():\n",
    "    url, result = results_queue.get()\n",
    "    (*_, exchange, symbol, date) = url.split('/')\n",
    "    print(f\"{date} - {exchange} - {symbol.upper()}: {(result or {}).get('close')}\")"
   ]
  },
  {
   "cell_type": "markdown",
   "metadata": {},
   "source": [
    "## `concurrent.futures`\n",
    "\n",
    "The code we have produced includes multiple of the issues we mentioned before. `concurrent.futures` is a library that includes a high level abstraction for concurrency, with many issues already solved. The library is very well built and its simplicity relies in 2 main abstractions:\n",
    "\n",
    "* The `Executor`: in charge of scheduling and synchronizing jobs\n",
    "* A `Future`: an object encapsulating the state of a concurrent computation"
   ]
  },
  {
   "cell_type": "code",
   "execution_count": 27,
   "metadata": {},
   "outputs": [],
   "source": [
    "import time"
   ]
  },
  {
   "cell_type": "code",
   "execution_count": 28,
   "metadata": {},
   "outputs": [],
   "source": [
    "from concurrent.futures import ThreadPoolExecutor"
   ]
  },
  {
   "cell_type": "markdown",
   "metadata": {},
   "source": [
    "With the `Executor` we'll schedule multiple tasks, we'll define the task as a simple function:"
   ]
  },
  {
   "cell_type": "code",
   "execution_count": 29,
   "metadata": {},
   "outputs": [],
   "source": [
    "def get_price(url):\n",
    "    time.sleep(.25)\n",
    "    resp = requests.get(url)\n",
    "    return resp.json()"
   ]
  },
  {
   "cell_type": "markdown",
   "metadata": {},
   "source": [
    "We want to run this for each URL:"
   ]
  },
  {
   "cell_type": "code",
   "execution_count": 30,
   "metadata": {
    "scrolled": true
   },
   "outputs": [
    {
     "data": {
      "text/plain": [
       "{'exchange': 'huobi',\n",
       " 'symbol': 'btc',\n",
       " 'open': 3966.68,\n",
       " 'high': 3994,\n",
       " 'low': 3542.03,\n",
       " 'close': 3585.36,\n",
       " 'volume': 8606.622285621284,\n",
       " 'day': '2019-01-11'}"
      ]
     },
     "execution_count": 30,
     "metadata": {},
     "output_type": "execute_result"
    }
   ],
   "source": [
    "get_price(price_urls[0])"
   ]
  },
  {
   "cell_type": "markdown",
   "metadata": {},
   "source": [
    "Now the code. First we create an executor:"
   ]
  },
  {
   "cell_type": "code",
   "execution_count": 31,
   "metadata": {},
   "outputs": [],
   "source": [
    "executor = ThreadPoolExecutor(max_workers=THREAD_COUNT)"
   ]
  },
  {
   "cell_type": "markdown",
   "metadata": {},
   "source": [
    "We \"schedule\" all the jobs with the `submit()` method. Each `submit()` call returns a `Future` (that we'll use later)."
   ]
  },
  {
   "cell_type": "code",
   "execution_count": 32,
   "metadata": {},
   "outputs": [],
   "source": [
    "futures = [executor.submit(get_price, url) for url in price_urls]"
   ]
  },
  {
   "cell_type": "code",
   "execution_count": 33,
   "metadata": {
    "scrolled": false
   },
   "outputs": [
    {
     "data": {
      "text/plain": [
       "[<Future at 0x115c4abd0 state=running>,\n",
       " <Future at 0x115c4a1d0 state=running>,\n",
       " <Future at 0x115c5ca10 state=running>,\n",
       " <Future at 0x11536fa10 state=running>,\n",
       " <Future at 0x115c4aa90 state=running>,\n",
       " <Future at 0x115c5f5d0 state=pending>,\n",
       " <Future at 0x115c5f890 state=pending>,\n",
       " <Future at 0x115c5f810 state=pending>,\n",
       " <Future at 0x115c5fa10 state=pending>,\n",
       " <Future at 0x115c4a050 state=pending>,\n",
       " <Future at 0x115c5fcd0 state=pending>,\n",
       " <Future at 0x115c5f850 state=pending>,\n",
       " <Future at 0x115c5f7d0 state=pending>,\n",
       " <Future at 0x115c5fe10 state=pending>,\n",
       " <Future at 0x115c5fad0 state=pending>,\n",
       " <Future at 0x115c5fdd0 state=pending>,\n",
       " <Future at 0x115c5f8d0 state=pending>,\n",
       " <Future at 0x115c5f710 state=pending>,\n",
       " <Future at 0x115c39150 state=pending>,\n",
       " <Future at 0x115c39d50 state=pending>,\n",
       " <Future at 0x115c39ed0 state=pending>,\n",
       " <Future at 0x115c39cd0 state=pending>,\n",
       " <Future at 0x115c39810 state=pending>,\n",
       " <Future at 0x115c39890 state=pending>,\n",
       " <Future at 0x115c39850 state=pending>,\n",
       " <Future at 0x115339610 state=pending>,\n",
       " <Future at 0x115339350 state=pending>,\n",
       " <Future at 0x115362850 state=pending>,\n",
       " <Future at 0x1153626d0 state=pending>,\n",
       " <Future at 0x115362cd0 state=pending>,\n",
       " <Future at 0x115362450 state=pending>,\n",
       " <Future at 0x115362490 state=pending>,\n",
       " <Future at 0x115376fd0 state=pending>,\n",
       " <Future at 0x115376390 state=pending>,\n",
       " <Future at 0x115376f90 state=pending>,\n",
       " <Future at 0x115376f50 state=pending>,\n",
       " <Future at 0x115376210 state=pending>,\n",
       " <Future at 0x115335d90 state=pending>,\n",
       " <Future at 0x115327ed0 state=pending>,\n",
       " <Future at 0x11536f490 state=pending>,\n",
       " <Future at 0x11536f610 state=pending>,\n",
       " <Future at 0x11536fad0 state=pending>,\n",
       " <Future at 0x11536fb90 state=pending>,\n",
       " <Future at 0x11536f090 state=pending>,\n",
       " <Future at 0x11536f810 state=pending>,\n",
       " <Future at 0x11536f510 state=pending>,\n",
       " <Future at 0x10cb37090 state=pending>,\n",
       " <Future at 0x1143edc50 state=pending>,\n",
       " <Future at 0x115316e50 state=pending>,\n",
       " <Future at 0x10cadc510 state=pending>]"
      ]
     },
     "execution_count": 33,
     "metadata": {},
     "output_type": "execute_result"
    }
   ],
   "source": [
    "futures"
   ]
  },
  {
   "cell_type": "markdown",
   "metadata": {},
   "source": [
    "Most of the `Future`s will be _pending_. They're still being executed by the `Executor`."
   ]
  },
  {
   "cell_type": "code",
   "execution_count": 34,
   "metadata": {},
   "outputs": [],
   "source": [
    "f = futures[-1]"
   ]
  },
  {
   "cell_type": "code",
   "execution_count": 35,
   "metadata": {},
   "outputs": [
    {
     "data": {
      "text/plain": [
       "False"
      ]
     },
     "execution_count": 35,
     "metadata": {},
     "output_type": "execute_result"
    }
   ],
   "source": [
    "f.done()"
   ]
  },
  {
   "cell_type": "code",
   "execution_count": 36,
   "metadata": {},
   "outputs": [
    {
     "data": {
      "text/plain": [
       "False"
      ]
     },
     "execution_count": 36,
     "metadata": {},
     "output_type": "execute_result"
    }
   ],
   "source": [
    "f.running()"
   ]
  },
  {
   "cell_type": "code",
   "execution_count": 37,
   "metadata": {},
   "outputs": [],
   "source": [
    "f.result()  # will block until a result arrives"
   ]
  },
  {
   "cell_type": "markdown",
   "metadata": {},
   "source": [
    "We can use the `as_completed` module-level function to produce start receiving results as they're completed:"
   ]
  },
  {
   "cell_type": "code",
   "execution_count": 38,
   "metadata": {},
   "outputs": [
    {
     "name": "stdout",
     "output_type": "stream",
     "text": [
      "{'exchange': 'poloniex', 'symbol': 'btc', 'open': 4102.89931454, 'high': 4140, 'low': 4052.57725231, 'close': 4105.3, 'volume': 205.32939073, 'day': '2019-03-31'}\n",
      "{'exchange': 'poloniex', 'symbol': 'btc', 'open': 4117.60261769, 'high': 4193.17030086, 'low': 3708.3500136, 'close': 3750.94339887, 'volume': 1489.19861538, 'day': '2019-02-25'}\n",
      "{'exchange': 'hitbtc', 'symbol': 'ltc', 'open': 38.2623, 'high': 38.7598, 'low': 31.9, 'close': 33.033, 'volume': 323009.575, 'day': '2019-01-11'}\n",
      "{'exchange': 'cexio', 'symbol': 'eth', 'open': 144.32, 'high': 146.55, 'low': 141.73, 'close': 143.64, 'volume': 1026.975561, 'day': '2019-03-31'}\n",
      "{'exchange': 'bittrex', 'symbol': 'btc', 'open': 4089.9990000000003, 'high': 4128.71, 'low': 4044.284, 'close': 4094.4440000000004, 'volume': 420.27000525, 'day': '2019-03-31'}\n",
      "{'exchange': 'hitbtc', 'symbol': 'ltc', 'open': 76.792, 'high': 98.1019, 'low': 76.032, 'close': 85.1948, 'volume': 1013312.454, 'day': '2019-04-04'}\n",
      "{'exchange': 'okex', 'symbol': 'ltc', 'open': 76.77, 'high': 98.29, 'low': 76, 'close': 85.2, 'volume': 4883227.482098676, 'day': '2019-04-04'}\n",
      "{'exchange': 'kraken', 'symbol': 'btc', 'open': 4002.2, 'high': 4035.5, 'low': 3550, 'close': 3623.5, 'volume': 13261.94887982, 'day': '2019-01-11'}\n",
      "{'exchange': 'okex', 'symbol': 'btc', 'open': 4857.5, 'high': 5277, 'low': 4781.2, 'close': 4943.4, 'volume': 182509.7386135131, 'day': '2019-04-04'}\n",
      "{'exchange': 'bittrex', 'symbol': 'eth', 'open': 149.37, 'high': 150.667, 'low': 122.434, 'close': 127.27, 'volume': 11634.26434034, 'day': '2019-01-11'}\n",
      "{'exchange': 'okex', 'symbol': 'ltc', 'open': 38.1676, 'high': 38.78, 'low': 31.5349, 'close': 32.8011, 'volume': 1381370.57215226, 'day': '2019-01-11'}\n",
      "{'exchange': 'bittrex', 'symbol': 'btc', 'open': 4902.46, 'high': 5340.56, 'low': 4810, 'close': 4970.639, 'volume': 3625.01819298, 'day': '2019-04-04'}\n",
      "{'exchange': 'cexio', 'symbol': 'eth', 'open': 151.18, 'high': 152.25, 'low': 125.1, 'close': 129.76, 'volume': 8320.140281, 'day': '2019-01-11'}\n",
      "None\n",
      "{'exchange': 'hitbtc', 'symbol': 'ltc', 'open': 61.4024, 'high': 61.5512, 'low': 59.9, 'close': 60.4409, 'volume': 975536.625, 'day': '2019-03-31'}\n",
      "{'exchange': 'cexio', 'symbol': 'eth', 'open': 157.7, 'high': 165.5, 'low': 132.67, 'close': 132.7, 'volume': 11728.999917000001, 'day': '2019-02-25'}\n",
      "None\n",
      "{'exchange': 'okex', 'symbol': 'btc', 'open': 3966.2307, 'high': 3996.4858, 'low': 3540, 'close': 3585.3606, 'volume': 48825.0138822625, 'day': '2019-01-11'}\n",
      "None\n",
      "{'exchange': 'kraken', 'symbol': 'btc', 'open': 3845, 'high': 3895.7, 'low': 3805, 'close': 3851.7, 'volume': 3444.13789999, 'day': '2019-03-07'}\n",
      "{'exchange': 'bittrex', 'symbol': 'btc', 'open': 3994.44, 'high': 4036.265, 'low': 3560, 'close': 3628, 'volume': 2182.67520796, 'day': '2019-01-11'}\n",
      "{'exchange': 'hitbtc', 'symbol': 'ltc', 'open': 51.3175, 'high': 53.4, 'low': 42.3537, 'close': 43.7684, 'volume': 654361.3620000001, 'day': '2019-02-25'}\n",
      "{'exchange': 'poloniex', 'symbol': 'btc', 'open': 3860, 'high': 3902.65759857, 'low': 3812.0372, 'close': 3861.94211998, 'volume': 401.84284411, 'day': '2019-03-07'}\n",
      "{'exchange': 'okex', 'symbol': 'btc', 'open': 4104.5, 'high': 4143.5, 'low': 4055.2, 'close': 4107.9, 'volume': 54929.98045623, 'day': '2019-03-31'}\n",
      "{'exchange': 'poloniex', 'symbol': 'btc', 'open': 3963.01, 'high': 3992.9385, 'low': 3528.8179999999998, 'close': 3586.278, 'volume': 1708.34928392, 'day': '2019-01-11'}\n",
      "{'exchange': 'huobi', 'symbol': 'btc', 'open': 3966.68, 'high': 3994, 'low': 3542.03, 'close': 3585.36, 'volume': 8606.622285621284, 'day': '2019-01-11'}\n",
      "{'exchange': 'bittrex', 'symbol': 'eth', 'open': 142.77100000000002, 'high': 145.439, 'low': 140.15, 'close': 142.231, 'volume': 1887.79246053, 'day': '2019-03-31'}\n",
      "{'exchange': 'poloniex', 'symbol': 'btc', 'open': 4861.10219193, 'high': 5274.73567118, 'low': 4784.44121629, 'close': 4939.9, 'volume': 2245.15498617, 'day': '2019-04-04'}\n",
      "{'exchange': 'okex', 'symbol': 'ltc', 'open': 52.5271, 'high': 56.6666, 'low': 51.233000000000004, 'close': 55.3625, 'volume': 1758356.8727023113, 'day': '2019-03-07'}\n",
      "{'exchange': 'bittrex', 'symbol': 'eth', 'open': 136.53, 'high': 139.963, 'low': 133.19, 'close': 137.15200000000002, 'volume': 7223.03857727, 'day': '2019-03-07'}\n",
      "{'exchange': 'bittrex', 'symbol': 'btc', 'open': 4107.710999999999, 'high': 4186.384, 'low': 3700, 'close': 3728.322, 'volume': 2477.20065131, 'day': '2019-02-25'}\n",
      "{'exchange': 'huobi', 'symbol': 'btc', 'open': 4117.69, 'high': 4200.02, 'low': 3681, 'close': 3747.86, 'volume': 8060.044829426483, 'day': '2019-02-25'}\n",
      "{'exchange': 'hitbtc', 'symbol': 'ltc', 'open': 52.5608, 'high': 56.6569, 'low': 51.1876, 'close': 55.3596, 'volume': 1016592.47, 'day': '2019-03-07'}\n",
      "None\n",
      "{'exchange': 'huobi', 'symbol': 'btc', 'open': 4857.79, 'high': 5276.91, 'low': 4805, 'close': 4944, 'volume': 4837.8328254302705, 'day': '2019-04-04'}\n",
      "{'exchange': 'huobi', 'symbol': 'btc', 'open': 4103.96, 'high': 4138, 'low': 4054.86, 'close': 4109.92, 'volume': 9836.147282091302, 'day': '2019-03-31'}\n",
      "{'exchange': 'huobi', 'symbol': 'btc', 'open': 3857.27, 'high': 3892.51, 'low': 3815.43, 'close': 3861.99, 'volume': 8936.483057356172, 'day': '2019-03-07'}\n",
      "{'exchange': 'cexio', 'symbol': 'eth', 'open': 165.32, 'high': 179.39, 'low': 153, 'close': 161.7, 'volume': 9015.924820999999, 'day': '2019-04-04'}\n",
      "{'exchange': 'cexio', 'symbol': 'eth', 'open': 138.26, 'high': 141.89, 'low': 135.73, 'close': 139.32, 'volume': 3050.667523, 'day': '2019-03-07'}\n",
      "{'exchange': 'okex', 'symbol': 'btc', 'open': 3856.7938, 'high': 3896.2140000000004, 'low': 3814.9764, 'close': 3863.5024, 'volume': 82588.94255926, 'day': '2019-03-07'}\n",
      "{'exchange': 'bittrex', 'symbol': 'eth', 'open': 164.717, 'high': 180.104, 'low': 151.542, 'close': 160.954, 'volume': 23115.06901322, 'day': '2019-04-04'}\n",
      "{'exchange': 'kraken', 'symbol': 'btc', 'open': 4899.4, 'high': 5362.7, 'low': 4751, 'close': 4972.2, 'volume': 20150.73628246, 'day': '2019-04-04'}\n",
      "None\n",
      "{'exchange': 'okex', 'symbol': 'ltc', 'open': 61.42, 'high': 61.55, 'low': 59.68, 'close': 60.44, 'volume': 718742.7881138752, 'day': '2019-03-31'}\n",
      "{'exchange': 'kraken', 'symbol': 'btc', 'open': 4110, 'high': 4190.3, 'low': 3625, 'close': 3732.2, 'volume': 12721.54151911, 'day': '2019-02-25'}\n",
      "{'exchange': 'bittrex', 'symbol': 'btc', 'open': 3846.312, 'high': 3895.4840000000004, 'low': 3809.45, 'close': 3852.815, 'volume': 814.84191027, 'day': '2019-03-07'}\n",
      "None\n",
      "{'exchange': 'bittrex', 'symbol': 'eth', 'open': 157.51, 'high': 165.62, 'low': 131.58, 'close': 131.68200000000002, 'volume': 22590.89676613, 'day': '2019-02-25'}\n",
      "{'exchange': 'kraken', 'symbol': 'btc', 'open': 4088.4, 'high': 4130, 'low': 4040, 'close': 4090.9, 'volume': 2499.97403102, 'day': '2019-03-31'}\n",
      "None\n"
     ]
    }
   ],
   "source": [
    "for future in as_completed(futures):\n",
    "    print(future.result())"
   ]
  },
  {
   "cell_type": "markdown",
   "metadata": {},
   "source": [
    "**Important!** We must shutdown the Executor once we're done using it. This way it'll free the resources:"
   ]
  },
  {
   "cell_type": "code",
   "execution_count": 39,
   "metadata": {
    "scrolled": false
   },
   "outputs": [],
   "source": [
    "executor.shutdown()"
   ]
  },
  {
   "cell_type": "markdown",
   "metadata": {},
   "source": [
    "### A better approach\n",
    "\n",
    "The `Executor` class can act as a Context Manager (`with`). That allows us to simplify the above code in:"
   ]
  },
  {
   "cell_type": "code",
   "execution_count": 40,
   "metadata": {},
   "outputs": [
    {
     "name": "stdout",
     "output_type": "stream",
     "text": [
      "{'exchange': 'huobi', 'symbol': 'btc', 'open': 4117.69, 'high': 4200.02, 'low': 3681, 'close': 3747.86, 'volume': 8060.044829426483, 'day': '2019-02-25'}\n",
      "{'exchange': 'huobi', 'symbol': 'btc', 'open': 3857.27, 'high': 3892.51, 'low': 3815.43, 'close': 3861.99, 'volume': 8936.483057356172, 'day': '2019-03-07'}\n",
      "None\n",
      "{'exchange': 'huobi', 'symbol': 'btc', 'open': 4103.96, 'high': 4138, 'low': 4054.86, 'close': 4109.92, 'volume': 9836.147282091302, 'day': '2019-03-31'}\n",
      "{'exchange': 'huobi', 'symbol': 'btc', 'open': 3966.68, 'high': 3994, 'low': 3542.03, 'close': 3585.36, 'volume': 8606.622285621284, 'day': '2019-01-11'}\n",
      "{'exchange': 'huobi', 'symbol': 'btc', 'open': 4857.79, 'high': 5276.91, 'low': 4805, 'close': 4944, 'volume': 4837.8328254302705, 'day': '2019-04-04'}\n",
      "{'exchange': 'bittrex', 'symbol': 'btc', 'open': 4902.46, 'high': 5340.56, 'low': 4810, 'close': 4970.639, 'volume': 3625.01819298, 'day': '2019-04-04'}\n",
      "None\n",
      "{'exchange': 'cexio', 'symbol': 'eth', 'open': 165.32, 'high': 179.39, 'low': 153, 'close': 161.7, 'volume': 9015.924820999999, 'day': '2019-04-04'}\n",
      "{'exchange': 'bittrex', 'symbol': 'btc', 'open': 3846.312, 'high': 3895.4840000000004, 'low': 3809.45, 'close': 3852.815, 'volume': 814.84191027, 'day': '2019-03-07'}\n",
      "None\n",
      "None\n",
      "{'exchange': 'cexio', 'symbol': 'eth', 'open': 144.32, 'high': 146.55, 'low': 141.73, 'close': 143.64, 'volume': 1026.975561, 'day': '2019-03-31'}\n",
      "{'exchange': 'bittrex', 'symbol': 'btc', 'open': 4107.710999999999, 'high': 4186.384, 'low': 3700, 'close': 3728.322, 'volume': 2477.20065131, 'day': '2019-02-25'}\n",
      "{'exchange': 'cexio', 'symbol': 'eth', 'open': 157.7, 'high': 165.5, 'low': 132.67, 'close': 132.7, 'volume': 11728.999917000001, 'day': '2019-02-25'}\n",
      "{'exchange': 'bittrex', 'symbol': 'btc', 'open': 4089.9990000000003, 'high': 4128.71, 'low': 4044.284, 'close': 4094.4440000000004, 'volume': 420.27000525, 'day': '2019-03-31'}\n",
      "{'exchange': 'cexio', 'symbol': 'eth', 'open': 138.26, 'high': 141.89, 'low': 135.73, 'close': 139.32, 'volume': 3050.667523, 'day': '2019-03-07'}\n",
      "{'exchange': 'bittrex', 'symbol': 'btc', 'open': 3994.44, 'high': 4036.265, 'low': 3560, 'close': 3628, 'volume': 2182.67520796, 'day': '2019-01-11'}\n",
      "None\n",
      "{'exchange': 'cexio', 'symbol': 'eth', 'open': 151.18, 'high': 152.25, 'low': 125.1, 'close': 129.76, 'volume': 8320.140281, 'day': '2019-01-11'}\n",
      "{'exchange': 'kraken', 'symbol': 'btc', 'open': 3845, 'high': 3895.7, 'low': 3805, 'close': 3851.7, 'volume': 3444.13789999, 'day': '2019-03-07'}\n",
      "{'exchange': 'kraken', 'symbol': 'btc', 'open': 4002.2, 'high': 4035.5, 'low': 3550, 'close': 3623.5, 'volume': 13261.94887982, 'day': '2019-01-11'}\n",
      "{'exchange': 'kraken', 'symbol': 'btc', 'open': 4088.4, 'high': 4130, 'low': 4040, 'close': 4090.9, 'volume': 2499.97403102, 'day': '2019-03-31'}\n",
      "{'exchange': 'kraken', 'symbol': 'btc', 'open': 4110, 'high': 4190.3, 'low': 3625, 'close': 3732.2, 'volume': 12721.54151911, 'day': '2019-02-25'}\n",
      "{'exchange': 'kraken', 'symbol': 'btc', 'open': 4899.4, 'high': 5362.7, 'low': 4751, 'close': 4972.2, 'volume': 20150.73628246, 'day': '2019-04-04'}\n",
      "{'exchange': 'okex', 'symbol': 'ltc', 'open': 52.5271, 'high': 56.6666, 'low': 51.233000000000004, 'close': 55.3625, 'volume': 1758356.8727023113, 'day': '2019-03-07'}\n",
      "{'exchange': 'okex', 'symbol': 'ltc', 'open': 61.42, 'high': 61.55, 'low': 59.68, 'close': 60.44, 'volume': 718742.7881138752, 'day': '2019-03-31'}\n",
      "{'exchange': 'okex', 'symbol': 'ltc', 'open': 38.1676, 'high': 38.78, 'low': 31.5349, 'close': 32.8011, 'volume': 1381370.57215226, 'day': '2019-01-11'}\n",
      "{'exchange': 'poloniex', 'symbol': 'btc', 'open': 3963.01, 'high': 3992.9385, 'low': 3528.8179999999998, 'close': 3586.278, 'volume': 1708.34928392, 'day': '2019-01-11'}\n",
      "None\n",
      "{'exchange': 'hitbtc', 'symbol': 'ltc', 'open': 52.5608, 'high': 56.6569, 'low': 51.1876, 'close': 55.3596, 'volume': 1016592.47, 'day': '2019-03-07'}\n",
      "{'exchange': 'poloniex', 'symbol': 'btc', 'open': 4102.89931454, 'high': 4140, 'low': 4052.57725231, 'close': 4105.3, 'volume': 205.32939073, 'day': '2019-03-31'}\n",
      "{'exchange': 'poloniex', 'symbol': 'btc', 'open': 4117.60261769, 'high': 4193.17030086, 'low': 3708.3500136, 'close': 3750.94339887, 'volume': 1489.19861538, 'day': '2019-02-25'}\n",
      "{'exchange': 'hitbtc', 'symbol': 'ltc', 'open': 38.2623, 'high': 38.7598, 'low': 31.9, 'close': 33.033, 'volume': 323009.575, 'day': '2019-01-11'}\n",
      "{'exchange': 'poloniex', 'symbol': 'btc', 'open': 4861.10219193, 'high': 5274.73567118, 'low': 4784.44121629, 'close': 4939.9, 'volume': 2245.15498617, 'day': '2019-04-04'}\n",
      "{'exchange': 'hitbtc', 'symbol': 'ltc', 'open': 76.792, 'high': 98.1019, 'low': 76.032, 'close': 85.1948, 'volume': 1013312.454, 'day': '2019-04-04'}\n",
      "{'exchange': 'hitbtc', 'symbol': 'ltc', 'open': 51.3175, 'high': 53.4, 'low': 42.3537, 'close': 43.7684, 'volume': 654361.3620000001, 'day': '2019-02-25'}\n",
      "{'exchange': 'poloniex', 'symbol': 'btc', 'open': 3860, 'high': 3902.65759857, 'low': 3812.0372, 'close': 3861.94211998, 'volume': 401.84284411, 'day': '2019-03-07'}\n",
      "{'exchange': 'okex', 'symbol': 'ltc', 'open': 76.77, 'high': 98.29, 'low': 76, 'close': 85.2, 'volume': 4883227.482098676, 'day': '2019-04-04'}\n",
      "{'exchange': 'hitbtc', 'symbol': 'ltc', 'open': 61.4024, 'high': 61.5512, 'low': 59.9, 'close': 60.4409, 'volume': 975536.625, 'day': '2019-03-31'}\n",
      "{'exchange': 'bittrex', 'symbol': 'eth', 'open': 142.77100000000002, 'high': 145.439, 'low': 140.15, 'close': 142.231, 'volume': 1887.79246053, 'day': '2019-03-31'}\n",
      "{'exchange': 'bittrex', 'symbol': 'eth', 'open': 149.37, 'high': 150.667, 'low': 122.434, 'close': 127.27, 'volume': 11634.26434034, 'day': '2019-01-11'}\n",
      "{'exchange': 'bittrex', 'symbol': 'eth', 'open': 136.53, 'high': 139.963, 'low': 133.19, 'close': 137.15200000000002, 'volume': 7223.03857727, 'day': '2019-03-07'}\n",
      "{'exchange': 'bittrex', 'symbol': 'eth', 'open': 164.717, 'high': 180.104, 'low': 151.542, 'close': 160.954, 'volume': 23115.06901322, 'day': '2019-04-04'}\n",
      "{'exchange': 'okex', 'symbol': 'btc', 'open': 3966.2307, 'high': 3996.4858, 'low': 3540, 'close': 3585.3606, 'volume': 48825.0138822625, 'day': '2019-01-11'}\n",
      "{'exchange': 'okex', 'symbol': 'btc', 'open': 3856.7938, 'high': 3896.2140000000004, 'low': 3814.9764, 'close': 3863.5024, 'volume': 82588.94255926, 'day': '2019-03-07'}\n",
      "{'exchange': 'bittrex', 'symbol': 'eth', 'open': 157.51, 'high': 165.62, 'low': 131.58, 'close': 131.68200000000002, 'volume': 22590.89676613, 'day': '2019-02-25'}\n",
      "{'exchange': 'okex', 'symbol': 'btc', 'open': 4104.5, 'high': 4143.5, 'low': 4055.2, 'close': 4107.9, 'volume': 54929.98045623, 'day': '2019-03-31'}\n",
      "{'exchange': 'okex', 'symbol': 'btc', 'open': 4857.5, 'high': 5277, 'low': 4781.2, 'close': 4943.4, 'volume': 182509.7386135131, 'day': '2019-04-04'}\n",
      "None\n"
     ]
    }
   ],
   "source": [
    "with ThreadPoolExecutor() as executor:\n",
    "    futures = [executor.submit(get_price, url) for url in price_urls]\n",
    "\n",
    "    for future in as_completed(futures):\n",
    "        print(future.result())"
   ]
  }
 ],
 "metadata": {
  "kernelspec": {
   "display_name": "Python 3",
   "language": "python",
   "name": "python3"
  },
  "language_info": {
   "codemirror_mode": {
    "name": "ipython",
    "version": 3
   },
   "file_extension": ".py",
   "mimetype": "text/x-python",
   "name": "python",
   "nbconvert_exporter": "python",
   "pygments_lexer": "ipython3",
   "version": "3.7.4"
  }
 },
 "nbformat": 4,
 "nbformat_minor": 4
}
