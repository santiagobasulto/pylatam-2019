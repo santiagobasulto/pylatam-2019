{
 "cells": [
  {
   "cell_type": "markdown",
   "metadata": {},
   "source": [
    "Download data from [CryptoWatch API](https://cryptowat.ch/docs/api) for educational purposes."
   ]
  },
  {
   "cell_type": "code",
   "execution_count": 167,
   "metadata": {},
   "outputs": [],
   "source": [
    "import requests\n",
    "import pandas as pd\n",
    "from concurrent.futures import ThreadPoolExecutor, as_completed"
   ]
  },
  {
   "cell_type": "markdown",
   "metadata": {},
   "source": [
    "### Markets"
   ]
  },
  {
   "cell_type": "code",
   "execution_count": 3,
   "metadata": {},
   "outputs": [],
   "source": [
    "resp = requests.get('https://api.cryptowat.ch/markets')"
   ]
  },
  {
   "cell_type": "code",
   "execution_count": 4,
   "metadata": {},
   "outputs": [
    {
     "data": {
      "text/plain": [
       "True"
      ]
     },
     "execution_count": 4,
     "metadata": {},
     "output_type": "execute_result"
    }
   ],
   "source": [
    "resp.ok"
   ]
  },
  {
   "cell_type": "code",
   "execution_count": 6,
   "metadata": {},
   "outputs": [
    {
     "data": {
      "text/plain": [
       "[{'id': 1,\n",
       "  'exchange': 'bitfinex',\n",
       "  'pair': 'btcusd',\n",
       "  'active': True,\n",
       "  'route': 'https://api.cryptowat.ch/markets/bitfinex/btcusd'},\n",
       " {'id': 2,\n",
       "  'exchange': 'bitfinex',\n",
       "  'pair': 'ltcusd',\n",
       "  'active': True,\n",
       "  'route': 'https://api.cryptowat.ch/markets/bitfinex/ltcusd'}]"
      ]
     },
     "execution_count": 6,
     "metadata": {},
     "output_type": "execute_result"
    }
   ],
   "source": [
    "resp.json()['result'][:2]"
   ]
  },
  {
   "cell_type": "code",
   "execution_count": 9,
   "metadata": {},
   "outputs": [
    {
     "data": {
      "text/html": [
       "<div>\n",
       "<style scoped>\n",
       "    .dataframe tbody tr th:only-of-type {\n",
       "        vertical-align: middle;\n",
       "    }\n",
       "\n",
       "    .dataframe tbody tr th {\n",
       "        vertical-align: top;\n",
       "    }\n",
       "\n",
       "    .dataframe thead th {\n",
       "        text-align: right;\n",
       "    }\n",
       "</style>\n",
       "<table border=\"1\" class=\"dataframe\">\n",
       "  <thead>\n",
       "    <tr style=\"text-align: right;\">\n",
       "      <th></th>\n",
       "      <th>exchange</th>\n",
       "      <th>pair</th>\n",
       "      <th>active</th>\n",
       "      <th>route</th>\n",
       "    </tr>\n",
       "    <tr>\n",
       "      <th>id</th>\n",
       "      <th></th>\n",
       "      <th></th>\n",
       "      <th></th>\n",
       "      <th></th>\n",
       "    </tr>\n",
       "  </thead>\n",
       "  <tbody>\n",
       "    <tr>\n",
       "      <th>1</th>\n",
       "      <td>bitfinex</td>\n",
       "      <td>btcusd</td>\n",
       "      <td>True</td>\n",
       "      <td>https://api.cryptowat.ch/markets/bitfinex/btcusd</td>\n",
       "    </tr>\n",
       "    <tr>\n",
       "      <th>2</th>\n",
       "      <td>bitfinex</td>\n",
       "      <td>ltcusd</td>\n",
       "      <td>True</td>\n",
       "      <td>https://api.cryptowat.ch/markets/bitfinex/ltcusd</td>\n",
       "    </tr>\n",
       "    <tr>\n",
       "      <th>3</th>\n",
       "      <td>bitfinex</td>\n",
       "      <td>ltcbtc</td>\n",
       "      <td>True</td>\n",
       "      <td>https://api.cryptowat.ch/markets/bitfinex/ltcbtc</td>\n",
       "    </tr>\n",
       "    <tr>\n",
       "      <th>4</th>\n",
       "      <td>bitfinex</td>\n",
       "      <td>ethusd</td>\n",
       "      <td>True</td>\n",
       "      <td>https://api.cryptowat.ch/markets/bitfinex/ethusd</td>\n",
       "    </tr>\n",
       "    <tr>\n",
       "      <th>5</th>\n",
       "      <td>bitfinex</td>\n",
       "      <td>ethbtc</td>\n",
       "      <td>True</td>\n",
       "      <td>https://api.cryptowat.ch/markets/bitfinex/ethbtc</td>\n",
       "    </tr>\n",
       "  </tbody>\n",
       "</table>\n",
       "</div>"
      ],
      "text/plain": [
       "    exchange    pair  active                                             route\n",
       "id                                                                            \n",
       "1   bitfinex  btcusd    True  https://api.cryptowat.ch/markets/bitfinex/btcusd\n",
       "2   bitfinex  ltcusd    True  https://api.cryptowat.ch/markets/bitfinex/ltcusd\n",
       "3   bitfinex  ltcbtc    True  https://api.cryptowat.ch/markets/bitfinex/ltcbtc\n",
       "4   bitfinex  ethusd    True  https://api.cryptowat.ch/markets/bitfinex/ethusd\n",
       "5   bitfinex  ethbtc    True  https://api.cryptowat.ch/markets/bitfinex/ethbtc"
      ]
     },
     "execution_count": 9,
     "metadata": {},
     "output_type": "execute_result"
    }
   ],
   "source": [
    "markets = pd.DataFrame.from_records(resp.json()['result'], index='id')\n",
    "markets.head()"
   ]
  },
  {
   "cell_type": "markdown",
   "metadata": {},
   "source": [
    "### Exchanges"
   ]
  },
  {
   "cell_type": "code",
   "execution_count": 15,
   "metadata": {},
   "outputs": [
    {
     "data": {
      "text/plain": [
       "['bitfinex',\n",
       " 'coinbase-pro',\n",
       " 'bitstamp',\n",
       " 'kraken',\n",
       " 'cexio',\n",
       " 'okcoin',\n",
       " 'bitmex',\n",
       " 'mexbt',\n",
       " 'huobi',\n",
       " 'poloniex',\n",
       " 'bittrex',\n",
       " 'okex',\n",
       " 'hitbtc']"
      ]
     },
     "execution_count": 15,
     "metadata": {},
     "output_type": "execute_result"
    }
   ],
   "source": [
    "VALID_EXCHANGES = [x.strip() for x in \"\"\"\n",
    "bitfinex\n",
    "coinbase-pro\n",
    "bitstamp\n",
    "kraken\n",
    "cexio\n",
    "okcoin\n",
    "bitmex\n",
    "mexbt\n",
    "huobi\n",
    "poloniex\n",
    "bittrex\n",
    "okex\n",
    "hitbtc\n",
    "\"\"\".split('\\n') if x.strip()]\n",
    "VALID_EXCHANGES"
   ]
  },
  {
   "cell_type": "markdown",
   "metadata": {},
   "source": [
    "### Cryptos"
   ]
  },
  {
   "cell_type": "code",
   "execution_count": 53,
   "metadata": {},
   "outputs": [],
   "source": [
    "VALID_CRYPTOS = ['BTC', 'LTC', 'ETH']"
   ]
  },
  {
   "cell_type": "code",
   "execution_count": 60,
   "metadata": {},
   "outputs": [
    {
     "data": {
      "text/plain": [
       "'^btcusdt*$|^ltcusdt*$|^ethusdt*$'"
      ]
     },
     "execution_count": 60,
     "metadata": {},
     "output_type": "execute_result"
    }
   ],
   "source": [
    "CRYPTOS_REGEX = '|'.join([\"^{}usdt*$\".format(c.lower()) for c in VALID_CRYPTOS])\n",
    "CRYPTOS_REGEX"
   ]
  },
  {
   "cell_type": "markdown",
   "metadata": {},
   "source": [
    "### Pairs to download"
   ]
  },
  {
   "cell_type": "code",
   "execution_count": 61,
   "metadata": {},
   "outputs": [
    {
     "data": {
      "text/html": [
       "<div>\n",
       "<style scoped>\n",
       "    .dataframe tbody tr th:only-of-type {\n",
       "        vertical-align: middle;\n",
       "    }\n",
       "\n",
       "    .dataframe tbody tr th {\n",
       "        vertical-align: top;\n",
       "    }\n",
       "\n",
       "    .dataframe thead th {\n",
       "        text-align: right;\n",
       "    }\n",
       "</style>\n",
       "<table border=\"1\" class=\"dataframe\">\n",
       "  <thead>\n",
       "    <tr style=\"text-align: right;\">\n",
       "      <th></th>\n",
       "      <th>exchange</th>\n",
       "      <th>pair</th>\n",
       "      <th>active</th>\n",
       "      <th>route</th>\n",
       "      <th>Should Download?</th>\n",
       "    </tr>\n",
       "    <tr>\n",
       "      <th>id</th>\n",
       "      <th></th>\n",
       "      <th></th>\n",
       "      <th></th>\n",
       "      <th></th>\n",
       "      <th></th>\n",
       "    </tr>\n",
       "  </thead>\n",
       "  <tbody>\n",
       "    <tr>\n",
       "      <th>1</th>\n",
       "      <td>bitfinex</td>\n",
       "      <td>btcusd</td>\n",
       "      <td>True</td>\n",
       "      <td>https://api.cryptowat.ch/markets/bitfinex/btcusd</td>\n",
       "      <td>True</td>\n",
       "    </tr>\n",
       "    <tr>\n",
       "      <th>2</th>\n",
       "      <td>bitfinex</td>\n",
       "      <td>ltcusd</td>\n",
       "      <td>True</td>\n",
       "      <td>https://api.cryptowat.ch/markets/bitfinex/ltcusd</td>\n",
       "      <td>True</td>\n",
       "    </tr>\n",
       "    <tr>\n",
       "      <th>3</th>\n",
       "      <td>bitfinex</td>\n",
       "      <td>ltcbtc</td>\n",
       "      <td>True</td>\n",
       "      <td>https://api.cryptowat.ch/markets/bitfinex/ltcbtc</td>\n",
       "      <td>False</td>\n",
       "    </tr>\n",
       "    <tr>\n",
       "      <th>4</th>\n",
       "      <td>bitfinex</td>\n",
       "      <td>ethusd</td>\n",
       "      <td>True</td>\n",
       "      <td>https://api.cryptowat.ch/markets/bitfinex/ethusd</td>\n",
       "      <td>True</td>\n",
       "    </tr>\n",
       "    <tr>\n",
       "      <th>5</th>\n",
       "      <td>bitfinex</td>\n",
       "      <td>ethbtc</td>\n",
       "      <td>True</td>\n",
       "      <td>https://api.cryptowat.ch/markets/bitfinex/ethbtc</td>\n",
       "      <td>False</td>\n",
       "    </tr>\n",
       "  </tbody>\n",
       "</table>\n",
       "</div>"
      ],
      "text/plain": [
       "    exchange    pair  active  \\\n",
       "id                             \n",
       "1   bitfinex  btcusd    True   \n",
       "2   bitfinex  ltcusd    True   \n",
       "3   bitfinex  ltcbtc    True   \n",
       "4   bitfinex  ethusd    True   \n",
       "5   bitfinex  ethbtc    True   \n",
       "\n",
       "                                               route  Should Download?  \n",
       "id                                                                      \n",
       "1   https://api.cryptowat.ch/markets/bitfinex/btcusd              True  \n",
       "2   https://api.cryptowat.ch/markets/bitfinex/ltcusd              True  \n",
       "3   https://api.cryptowat.ch/markets/bitfinex/ltcbtc             False  \n",
       "4   https://api.cryptowat.ch/markets/bitfinex/ethusd              True  \n",
       "5   https://api.cryptowat.ch/markets/bitfinex/ethbtc             False  "
      ]
     },
     "execution_count": 61,
     "metadata": {},
     "output_type": "execute_result"
    }
   ],
   "source": [
    "markets.head()"
   ]
  },
  {
   "cell_type": "code",
   "execution_count": 62,
   "metadata": {},
   "outputs": [],
   "source": [
    "markets['Should Download?'] = markets['pair'].str.contains(CRYPTOS_REGEX) & markets['exchange'].isin(VALID_EXCHANGES)"
   ]
  },
  {
   "cell_type": "code",
   "execution_count": 67,
   "metadata": {},
   "outputs": [],
   "source": [
    "markets['symbol'] = markets['pair'].str[:3].str.upper()"
   ]
  },
  {
   "cell_type": "code",
   "execution_count": 89,
   "metadata": {},
   "outputs": [],
   "source": [
    "# markets['OHLC URL'] = markets.apply(lambda row: URL_TEMPLATE.format(exchange=row['exchange'], pair=row['pair']), axis=1)"
   ]
  },
  {
   "cell_type": "code",
   "execution_count": 90,
   "metadata": {},
   "outputs": [],
   "source": [
    "to_download = markets.loc[markets['Should Download?']]"
   ]
  },
  {
   "cell_type": "code",
   "execution_count": 91,
   "metadata": {},
   "outputs": [
    {
     "data": {
      "text/html": [
       "<div>\n",
       "<style scoped>\n",
       "    .dataframe tbody tr th:only-of-type {\n",
       "        vertical-align: middle;\n",
       "    }\n",
       "\n",
       "    .dataframe tbody tr th {\n",
       "        vertical-align: top;\n",
       "    }\n",
       "\n",
       "    .dataframe thead th {\n",
       "        text-align: right;\n",
       "    }\n",
       "</style>\n",
       "<table border=\"1\" class=\"dataframe\">\n",
       "  <thead>\n",
       "    <tr style=\"text-align: right;\">\n",
       "      <th></th>\n",
       "      <th>exchange</th>\n",
       "      <th>pair</th>\n",
       "      <th>active</th>\n",
       "      <th>route</th>\n",
       "      <th>Should Download?</th>\n",
       "      <th>symbol</th>\n",
       "      <th>OHLC URL</th>\n",
       "    </tr>\n",
       "    <tr>\n",
       "      <th>id</th>\n",
       "      <th></th>\n",
       "      <th></th>\n",
       "      <th></th>\n",
       "      <th></th>\n",
       "      <th></th>\n",
       "      <th></th>\n",
       "      <th></th>\n",
       "    </tr>\n",
       "  </thead>\n",
       "  <tbody>\n",
       "    <tr>\n",
       "      <th>1</th>\n",
       "      <td>bitfinex</td>\n",
       "      <td>btcusd</td>\n",
       "      <td>True</td>\n",
       "      <td>https://api.cryptowat.ch/markets/bitfinex/btcusd</td>\n",
       "      <td>True</td>\n",
       "      <td>BTC</td>\n",
       "      <td>https://api.cryptowat.ch/markets/bitfinex/btcu...</td>\n",
       "    </tr>\n",
       "    <tr>\n",
       "      <th>2</th>\n",
       "      <td>bitfinex</td>\n",
       "      <td>ltcusd</td>\n",
       "      <td>True</td>\n",
       "      <td>https://api.cryptowat.ch/markets/bitfinex/ltcusd</td>\n",
       "      <td>True</td>\n",
       "      <td>LTC</td>\n",
       "      <td>https://api.cryptowat.ch/markets/bitfinex/ltcu...</td>\n",
       "    </tr>\n",
       "    <tr>\n",
       "      <th>4</th>\n",
       "      <td>bitfinex</td>\n",
       "      <td>ethusd</td>\n",
       "      <td>True</td>\n",
       "      <td>https://api.cryptowat.ch/markets/bitfinex/ethusd</td>\n",
       "      <td>True</td>\n",
       "      <td>ETH</td>\n",
       "      <td>https://api.cryptowat.ch/markets/bitfinex/ethu...</td>\n",
       "    </tr>\n",
       "    <tr>\n",
       "      <th>65</th>\n",
       "      <td>coinbase-pro</td>\n",
       "      <td>btcusd</td>\n",
       "      <td>True</td>\n",
       "      <td>https://api.cryptowat.ch/markets/coinbase-pro/...</td>\n",
       "      <td>True</td>\n",
       "      <td>BTC</td>\n",
       "      <td>https://api.cryptowat.ch/markets/coinbase-pro/...</td>\n",
       "    </tr>\n",
       "    <tr>\n",
       "      <th>68</th>\n",
       "      <td>coinbase-pro</td>\n",
       "      <td>ethusd</td>\n",
       "      <td>True</td>\n",
       "      <td>https://api.cryptowat.ch/markets/coinbase-pro/...</td>\n",
       "      <td>True</td>\n",
       "      <td>ETH</td>\n",
       "      <td>https://api.cryptowat.ch/markets/coinbase-pro/...</td>\n",
       "    </tr>\n",
       "  </tbody>\n",
       "</table>\n",
       "</div>"
      ],
      "text/plain": [
       "        exchange    pair  active  \\\n",
       "id                                 \n",
       "1       bitfinex  btcusd    True   \n",
       "2       bitfinex  ltcusd    True   \n",
       "4       bitfinex  ethusd    True   \n",
       "65  coinbase-pro  btcusd    True   \n",
       "68  coinbase-pro  ethusd    True   \n",
       "\n",
       "                                                route  Should Download?  \\\n",
       "id                                                                        \n",
       "1    https://api.cryptowat.ch/markets/bitfinex/btcusd              True   \n",
       "2    https://api.cryptowat.ch/markets/bitfinex/ltcusd              True   \n",
       "4    https://api.cryptowat.ch/markets/bitfinex/ethusd              True   \n",
       "65  https://api.cryptowat.ch/markets/coinbase-pro/...              True   \n",
       "68  https://api.cryptowat.ch/markets/coinbase-pro/...              True   \n",
       "\n",
       "   symbol                                           OHLC URL  \n",
       "id                                                            \n",
       "1     BTC  https://api.cryptowat.ch/markets/bitfinex/btcu...  \n",
       "2     LTC  https://api.cryptowat.ch/markets/bitfinex/ltcu...  \n",
       "4     ETH  https://api.cryptowat.ch/markets/bitfinex/ethu...  \n",
       "65    BTC  https://api.cryptowat.ch/markets/coinbase-pro/...  \n",
       "68    ETH  https://api.cryptowat.ch/markets/coinbase-pro/...  "
      ]
     },
     "execution_count": 91,
     "metadata": {},
     "output_type": "execute_result"
    }
   ],
   "source": [
    "to_download.head()"
   ]
  },
  {
   "cell_type": "markdown",
   "metadata": {},
   "source": [
    "### OHLC"
   ]
  },
  {
   "cell_type": "code",
   "execution_count": 122,
   "metadata": {},
   "outputs": [],
   "source": [
    "url = 'https://api.cryptowat.ch/markets/bitfinex/ltcusdt/ohlc'"
   ]
  },
  {
   "cell_type": "code",
   "execution_count": 129,
   "metadata": {},
   "outputs": [],
   "source": [
    "resp = requests.get(url, params={'periods': 86400})"
   ]
  },
  {
   "cell_type": "code",
   "execution_count": 130,
   "metadata": {},
   "outputs": [
    {
     "data": {
      "text/plain": [
       "True"
      ]
     },
     "execution_count": 130,
     "metadata": {},
     "output_type": "execute_result"
    }
   ],
   "source": [
    "resp.ok"
   ]
  },
  {
   "cell_type": "code",
   "execution_count": 125,
   "metadata": {},
   "outputs": [
    {
     "data": {
      "text/plain": [
       "[[1555113600, 77.3, 79.139, 77.3, 78.784, 4.51065, 353.00803185],\n",
       " [1555200000, 79.657, 80.909, 76.88, 77.439, 224.80873319, 17956.80318777912]]"
      ]
     },
     "execution_count": 125,
     "metadata": {},
     "output_type": "execute_result"
    }
   ],
   "source": [
    "resp.json()['result']['86400'][:2]"
   ]
  },
  {
   "cell_type": "markdown",
   "metadata": {},
   "source": [
    "From:"
   ]
  },
  {
   "cell_type": "code",
   "execution_count": 132,
   "metadata": {},
   "outputs": [
    {
     "data": {
      "text/plain": [
       "Timestamp('2019-07-22 00:00:00')"
      ]
     },
     "execution_count": 132,
     "metadata": {},
     "output_type": "execute_result"
    }
   ],
   "source": [
    "pd.to_datetime(resp.json()['result']['86400'][-1][0], unit='s')"
   ]
  },
  {
   "cell_type": "markdown",
   "metadata": {},
   "source": [
    "Up to:"
   ]
  },
  {
   "cell_type": "code",
   "execution_count": 131,
   "metadata": {},
   "outputs": [
    {
     "data": {
      "text/plain": [
       "Timestamp('2019-04-13 00:00:00')"
      ]
     },
     "execution_count": 131,
     "metadata": {},
     "output_type": "execute_result"
    }
   ],
   "source": [
    "pd.to_datetime(resp.json()['result']['86400'][0][0], unit='s')"
   ]
  },
  {
   "cell_type": "code",
   "execution_count": 118,
   "metadata": {},
   "outputs": [],
   "source": [
    "ohlc = pd.DataFrame.from_records(\n",
    "    resp.json()['result']['86400'],\n",
    "    columns=['CloseTime', 'OpenPrice', 'HighPrice', 'LowPrice', 'ClosePrice', 'Volume', 'VolumeUSD']\n",
    ")"
   ]
  },
  {
   "cell_type": "code",
   "execution_count": 120,
   "metadata": {},
   "outputs": [],
   "source": [
    "ohlc['DateTime'] = pd.to_datetime(ohlc['CloseTime'], unit='s')"
   ]
  },
  {
   "cell_type": "code",
   "execution_count": 121,
   "metadata": {},
   "outputs": [
    {
     "data": {
      "text/html": [
       "<div>\n",
       "<style scoped>\n",
       "    .dataframe tbody tr th:only-of-type {\n",
       "        vertical-align: middle;\n",
       "    }\n",
       "\n",
       "    .dataframe tbody tr th {\n",
       "        vertical-align: top;\n",
       "    }\n",
       "\n",
       "    .dataframe thead th {\n",
       "        text-align: right;\n",
       "    }\n",
       "</style>\n",
       "<table border=\"1\" class=\"dataframe\">\n",
       "  <thead>\n",
       "    <tr style=\"text-align: right;\">\n",
       "      <th></th>\n",
       "      <th>CloseTime</th>\n",
       "      <th>OpenPrice</th>\n",
       "      <th>HighPrice</th>\n",
       "      <th>LowPrice</th>\n",
       "      <th>ClosePrice</th>\n",
       "      <th>Volume</th>\n",
       "      <th>VolumeUSD</th>\n",
       "      <th>DateTime</th>\n",
       "    </tr>\n",
       "  </thead>\n",
       "  <tbody>\n",
       "    <tr>\n",
       "      <th>0</th>\n",
       "      <td>1555113600</td>\n",
       "      <td>77.300</td>\n",
       "      <td>79.139</td>\n",
       "      <td>77.300</td>\n",
       "      <td>78.784</td>\n",
       "      <td>4.510650</td>\n",
       "      <td>353.008032</td>\n",
       "      <td>2019-04-13</td>\n",
       "    </tr>\n",
       "    <tr>\n",
       "      <th>1</th>\n",
       "      <td>1555200000</td>\n",
       "      <td>79.657</td>\n",
       "      <td>80.909</td>\n",
       "      <td>76.880</td>\n",
       "      <td>77.439</td>\n",
       "      <td>224.808733</td>\n",
       "      <td>17956.803188</td>\n",
       "      <td>2019-04-14</td>\n",
       "    </tr>\n",
       "    <tr>\n",
       "      <th>2</th>\n",
       "      <td>1555286400</td>\n",
       "      <td>77.400</td>\n",
       "      <td>82.320</td>\n",
       "      <td>76.725</td>\n",
       "      <td>82.320</td>\n",
       "      <td>211.321604</td>\n",
       "      <td>16416.498960</td>\n",
       "      <td>2019-04-15</td>\n",
       "    </tr>\n",
       "    <tr>\n",
       "      <th>3</th>\n",
       "      <td>1555372800</td>\n",
       "      <td>81.183</td>\n",
       "      <td>81.505</td>\n",
       "      <td>74.500</td>\n",
       "      <td>78.892</td>\n",
       "      <td>227.123199</td>\n",
       "      <td>17550.141392</td>\n",
       "      <td>2019-04-16</td>\n",
       "    </tr>\n",
       "    <tr>\n",
       "      <th>4</th>\n",
       "      <td>1555459200</td>\n",
       "      <td>78.204</td>\n",
       "      <td>80.680</td>\n",
       "      <td>78.124</td>\n",
       "      <td>80.367</td>\n",
       "      <td>80.081169</td>\n",
       "      <td>6280.867545</td>\n",
       "      <td>2019-04-17</td>\n",
       "    </tr>\n",
       "  </tbody>\n",
       "</table>\n",
       "</div>"
      ],
      "text/plain": [
       "    CloseTime  OpenPrice  HighPrice  LowPrice  ClosePrice      Volume  \\\n",
       "0  1555113600     77.300     79.139    77.300      78.784    4.510650   \n",
       "1  1555200000     79.657     80.909    76.880      77.439  224.808733   \n",
       "2  1555286400     77.400     82.320    76.725      82.320  211.321604   \n",
       "3  1555372800     81.183     81.505    74.500      78.892  227.123199   \n",
       "4  1555459200     78.204     80.680    78.124      80.367   80.081169   \n",
       "\n",
       "      VolumeUSD   DateTime  \n",
       "0    353.008032 2019-04-13  \n",
       "1  17956.803188 2019-04-14  \n",
       "2  16416.498960 2019-04-15  \n",
       "3  17550.141392 2019-04-16  \n",
       "4   6280.867545 2019-04-17  "
      ]
     },
     "execution_count": 121,
     "metadata": {},
     "output_type": "execute_result"
    }
   ],
   "source": [
    "ohlc.head()"
   ]
  },
  {
   "cell_type": "code",
   "execution_count": 109,
   "metadata": {},
   "outputs": [
    {
     "data": {
      "text/plain": [
       "(101, 8)"
      ]
     },
     "execution_count": 109,
     "metadata": {},
     "output_type": "execute_result"
    }
   ],
   "source": [
    "ohlc.shape"
   ]
  },
  {
   "cell_type": "markdown",
   "metadata": {},
   "source": [
    "### Download "
   ]
  },
  {
   "cell_type": "code",
   "execution_count": 135,
   "metadata": {},
   "outputs": [
    {
     "data": {
      "text/html": [
       "<div>\n",
       "<style scoped>\n",
       "    .dataframe tbody tr th:only-of-type {\n",
       "        vertical-align: middle;\n",
       "    }\n",
       "\n",
       "    .dataframe tbody tr th {\n",
       "        vertical-align: top;\n",
       "    }\n",
       "\n",
       "    .dataframe thead th {\n",
       "        text-align: right;\n",
       "    }\n",
       "</style>\n",
       "<table border=\"1\" class=\"dataframe\">\n",
       "  <thead>\n",
       "    <tr style=\"text-align: right;\">\n",
       "      <th></th>\n",
       "      <th>exchange</th>\n",
       "      <th>pair</th>\n",
       "      <th>active</th>\n",
       "      <th>route</th>\n",
       "      <th>Should Download?</th>\n",
       "      <th>symbol</th>\n",
       "      <th>OHLC URL</th>\n",
       "    </tr>\n",
       "    <tr>\n",
       "      <th>id</th>\n",
       "      <th></th>\n",
       "      <th></th>\n",
       "      <th></th>\n",
       "      <th></th>\n",
       "      <th></th>\n",
       "      <th></th>\n",
       "      <th></th>\n",
       "    </tr>\n",
       "  </thead>\n",
       "  <tbody>\n",
       "    <tr>\n",
       "      <th>1</th>\n",
       "      <td>bitfinex</td>\n",
       "      <td>btcusd</td>\n",
       "      <td>True</td>\n",
       "      <td>https://api.cryptowat.ch/markets/bitfinex/btcusd</td>\n",
       "      <td>True</td>\n",
       "      <td>BTC</td>\n",
       "      <td>https://api.cryptowat.ch/markets/bitfinex/btcu...</td>\n",
       "    </tr>\n",
       "    <tr>\n",
       "      <th>2</th>\n",
       "      <td>bitfinex</td>\n",
       "      <td>ltcusd</td>\n",
       "      <td>True</td>\n",
       "      <td>https://api.cryptowat.ch/markets/bitfinex/ltcusd</td>\n",
       "      <td>True</td>\n",
       "      <td>LTC</td>\n",
       "      <td>https://api.cryptowat.ch/markets/bitfinex/ltcu...</td>\n",
       "    </tr>\n",
       "    <tr>\n",
       "      <th>4</th>\n",
       "      <td>bitfinex</td>\n",
       "      <td>ethusd</td>\n",
       "      <td>True</td>\n",
       "      <td>https://api.cryptowat.ch/markets/bitfinex/ethusd</td>\n",
       "      <td>True</td>\n",
       "      <td>ETH</td>\n",
       "      <td>https://api.cryptowat.ch/markets/bitfinex/ethu...</td>\n",
       "    </tr>\n",
       "    <tr>\n",
       "      <th>65</th>\n",
       "      <td>coinbase-pro</td>\n",
       "      <td>btcusd</td>\n",
       "      <td>True</td>\n",
       "      <td>https://api.cryptowat.ch/markets/coinbase-pro/...</td>\n",
       "      <td>True</td>\n",
       "      <td>BTC</td>\n",
       "      <td>https://api.cryptowat.ch/markets/coinbase-pro/...</td>\n",
       "    </tr>\n",
       "    <tr>\n",
       "      <th>68</th>\n",
       "      <td>coinbase-pro</td>\n",
       "      <td>ethusd</td>\n",
       "      <td>True</td>\n",
       "      <td>https://api.cryptowat.ch/markets/coinbase-pro/...</td>\n",
       "      <td>True</td>\n",
       "      <td>ETH</td>\n",
       "      <td>https://api.cryptowat.ch/markets/coinbase-pro/...</td>\n",
       "    </tr>\n",
       "  </tbody>\n",
       "</table>\n",
       "</div>"
      ],
      "text/plain": [
       "        exchange    pair  active  \\\n",
       "id                                 \n",
       "1       bitfinex  btcusd    True   \n",
       "2       bitfinex  ltcusd    True   \n",
       "4       bitfinex  ethusd    True   \n",
       "65  coinbase-pro  btcusd    True   \n",
       "68  coinbase-pro  ethusd    True   \n",
       "\n",
       "                                                route  Should Download?  \\\n",
       "id                                                                        \n",
       "1    https://api.cryptowat.ch/markets/bitfinex/btcusd              True   \n",
       "2    https://api.cryptowat.ch/markets/bitfinex/ltcusd              True   \n",
       "4    https://api.cryptowat.ch/markets/bitfinex/ethusd              True   \n",
       "65  https://api.cryptowat.ch/markets/coinbase-pro/...              True   \n",
       "68  https://api.cryptowat.ch/markets/coinbase-pro/...              True   \n",
       "\n",
       "   symbol                                           OHLC URL  \n",
       "id                                                            \n",
       "1     BTC  https://api.cryptowat.ch/markets/bitfinex/btcu...  \n",
       "2     LTC  https://api.cryptowat.ch/markets/bitfinex/ltcu...  \n",
       "4     ETH  https://api.cryptowat.ch/markets/bitfinex/ethu...  \n",
       "65    BTC  https://api.cryptowat.ch/markets/coinbase-pro/...  \n",
       "68    ETH  https://api.cryptowat.ch/markets/coinbase-pro/...  "
      ]
     },
     "execution_count": 135,
     "metadata": {},
     "output_type": "execute_result"
    }
   ],
   "source": [
    "to_download.head()"
   ]
  },
  {
   "cell_type": "code",
   "execution_count": 149,
   "metadata": {},
   "outputs": [
    {
     "data": {
      "text/plain": [
       "'https://api.cryptowat.ch/markets/{exchange}/{pair}/ohlc'"
      ]
     },
     "execution_count": 149,
     "metadata": {},
     "output_type": "execute_result"
    }
   ],
   "source": [
    "URL_TEMPLATE = 'https://api.cryptowat.ch/markets/{exchange}/{pair}/ohlc'\n",
    "URL_TEMPLATE"
   ]
  },
  {
   "cell_type": "code",
   "execution_count": 170,
   "metadata": {},
   "outputs": [],
   "source": [
    "def download_ohlc_into_csv(exchange, pair, symbol, destination='crypto_data'):\n",
    "    url = URL_TEMPLATE.format(exchange=exchange, pair=pair)\n",
    "    \n",
    "    identifier = '{exchange}_{symbol}'.format(exchange=exchange, symbol=symbol.lower())\n",
    "\n",
    "    resp = requests.get(url, params={'periods': 86400})\n",
    "    if not resp.ok:\n",
    "        return (identifier, False)\n",
    "\n",
    "    resp.json()['result']['86400'][:2]\n",
    "\n",
    "    df = pd.DataFrame.from_records(\n",
    "        resp.json()['result']['86400'],\n",
    "        columns=['CloseTime', 'OpenPrice', 'HighPrice', 'LowPrice', 'ClosePrice', 'Volume', 'VolumeUSD']\n",
    "    )\n",
    "\n",
    "    df['DateTime'] = pd.to_datetime(df['CloseTime'], unit='s')\n",
    "    file_name = \"{}/{}.csv\".format(destination, identifier)\n",
    "    df.to_csv(file_name, index=False)\n",
    "    return (identifier, True)"
   ]
  },
  {
   "cell_type": "markdown",
   "metadata": {},
   "source": [
    "Just a quick test:"
   ]
  },
  {
   "cell_type": "code",
   "execution_count": 165,
   "metadata": {},
   "outputs": [
    {
     "data": {
      "text/plain": [
       "('coinbase-pro_eth', True)"
      ]
     },
     "execution_count": 165,
     "metadata": {},
     "output_type": "execute_result"
    }
   ],
   "source": [
    "download_ohlc_into_csv('coinbase-pro', 'ethusd', 'ETH')"
   ]
  },
  {
   "cell_type": "code",
   "execution_count": 166,
   "metadata": {},
   "outputs": [
    {
     "name": "stdout",
     "output_type": "stream",
     "text": [
      "CloseTime,OpenPrice,HighPrice,LowPrice,ClosePrice,Volume,VolumeUSD,DateTime\n",
      "1521072000,690.32,702.5,585.52,614.63,152695.72,96964136.0,2018-03-15\n",
      "1521158400,614.63,621.47,571.16,610.99,148955.0,89051080.0,2018-03-16\n"
     ]
    }
   ],
   "source": [
    "!head -n 3 crypto_data/coinbase-pro_eth.csv"
   ]
  },
  {
   "cell_type": "code",
   "execution_count": 172,
   "metadata": {},
   "outputs": [
    {
     "name": "stdout",
     "output_type": "stream",
     "text": [
      "('bitfinex_btc', True)\n",
      "('bitfinex_ltc', True)\n",
      "('bitfinex_eth', True)\n",
      "('coinbase-pro_btc', True)\n",
      "('coinbase-pro_eth', True)\n",
      "('coinbase-pro_ltc', True)\n",
      "('bitstamp_btc', True)\n",
      "('bitstamp_ltc', True)\n",
      "('bitstamp_eth', True)\n",
      "('kraken_btc', True)\n",
      "('kraken_ltc', True)\n",
      "('kraken_eth', True)\n",
      "('cexio_btc', True)\n",
      "('cexio_ltc', True)\n",
      "('cexio_eth', True)\n",
      "('okcoin_btc', True)\n",
      "('okcoin_ltc', True)\n",
      "('mexbt_btc', True)\n",
      "('poloniex_eth', True)\n",
      "('poloniex_btc', True)\n",
      "('poloniex_ltc', True)\n",
      "('bittrex_btc', True)\n",
      "('bittrex_eth', True)\n",
      "('bittrex_ltc', True)\n",
      "('okex_btc', True)\n",
      "('okex_ltc', True)\n",
      "('okex_eth', True)\n",
      "('hitbtc_ltc', True)\n",
      "('hitbtc_btc', True)\n",
      "('bittrex_btc', True)\n",
      "('hitbtc_eth', True)\n",
      "('bittrex_eth', True)\n",
      "('huobi_btc', True)\n",
      "('huobi_ltc', True)\n",
      "('huobi_eth', True)\n",
      "('bittrex_ltc', True)\n",
      "('bitfinex_btc', True)\n",
      "('bitfinex_eth', True)\n",
      "('bitfinex_ltc', True)\n"
     ]
    }
   ],
   "source": [
    "with ThreadPoolExecutor(max_workers=10) as ex:\n",
    "    for exchange, pair, symbol in to_download[['exchange', 'pair', 'symbol']].values:\n",
    "        futures = [ex.submit(download_ohlc_into_csv, exchange, pair, symbol)]\n",
    "        for future in as_completed(futures):\n",
    "            print(future.result())"
   ]
  }
 ],
 "metadata": {
  "kernelspec": {
   "display_name": "Python 3",
   "language": "python",
   "name": "python3"
  },
  "language_info": {
   "codemirror_mode": {
    "name": "ipython",
    "version": 3
   },
   "file_extension": ".py",
   "mimetype": "text/x-python",
   "name": "python",
   "nbconvert_exporter": "python",
   "pygments_lexer": "ipython3",
   "version": "3.7.4"
  }
 },
 "nbformat": 4,
 "nbformat_minor": 4
}
