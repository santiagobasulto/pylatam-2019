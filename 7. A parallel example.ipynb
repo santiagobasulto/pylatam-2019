{
 "cells": [
  {
   "cell_type": "code",
   "execution_count": 1,
   "metadata": {},
   "outputs": [],
   "source": [
    "import random\n",
    "import itertools\n",
    "import threading\n",
    "import queue\n",
    "from concurrent.futures import ThreadPoolExecutor, as_completed\n",
    "\n",
    "import requests\n",
    "import pandas as pd\n",
    "import speaker_buddy as buddy"
   ]
  },
  {
   "cell_type": "markdown",
   "metadata": {},
   "source": [
    "### Exchanges"
   ]
  },
  {
   "cell_type": "code",
   "execution_count": 2,
   "metadata": {},
   "outputs": [],
   "source": [
    "EXCHANGES= [\n",
    "    'bitfinex',\n",
    "    'coinbase-pro',\n",
    "    'bitstamp',\n",
    "    'kraken',\n",
    "    'cexio',\n",
    "    'okcoin',\n",
    "    'bitmex',\n",
    "    'mexbt',\n",
    "    'huobi',\n",
    "    'poloniex',\n",
    "    'bittrex',\n",
    "    'okex',\n",
    "    'hitbtc'\n",
    "]"
   ]
  },
  {
   "cell_type": "markdown",
   "metadata": {},
   "source": [
    "### Symbols"
   ]
  },
  {
   "cell_type": "code",
   "execution_count": 3,
   "metadata": {},
   "outputs": [],
   "source": [
    "SYMBOLS = ['btc', 'ltc', 'eth']"
   ]
  },
  {
   "cell_type": "markdown",
   "metadata": {},
   "source": [
    "### Combinations"
   ]
  },
  {
   "cell_type": "code",
   "execution_count": 4,
   "metadata": {},
   "outputs": [],
   "source": [
    "ALL_COMBINATIONS = list(itertools.product(EXCHANGES, SYMBOLS))"
   ]
  },
  {
   "cell_type": "markdown",
   "metadata": {},
   "source": [
    "### Random Combinatios"
   ]
  },
  {
   "cell_type": "code",
   "execution_count": 5,
   "metadata": {},
   "outputs": [],
   "source": [
    "combinations = [random.choice(ALL_COMBINATIONS) for _ in range(10)]"
   ]
  },
  {
   "cell_type": "markdown",
   "metadata": {},
   "source": [
    "### Random Dates"
   ]
  },
  {
   "cell_type": "code",
   "execution_count": 6,
   "metadata": {},
   "outputs": [],
   "source": [
    "ALL_DATES = [d.strftime('%Y-%m-%d') for d in pd.date_range('2019-01-01', '2019-07-20', freq='D')]"
   ]
  },
  {
   "cell_type": "code",
   "execution_count": 7,
   "metadata": {},
   "outputs": [],
   "source": [
    "dates = [random.choice(ALL_DATES) for _ in range(5)]"
   ]
  },
  {
   "cell_type": "markdown",
   "metadata": {},
   "source": [
    "### Summary"
   ]
  },
  {
   "cell_type": "code",
   "execution_count": 8,
   "metadata": {},
   "outputs": [
    {
     "data": {
      "text/plain": [
       "['2019-07-10', '2019-06-15', '2019-07-16', '2019-07-20', '2019-07-03']"
      ]
     },
     "execution_count": 8,
     "metadata": {},
     "output_type": "execute_result"
    }
   ],
   "source": [
    "dates"
   ]
  },
  {
   "cell_type": "code",
   "execution_count": 9,
   "metadata": {},
   "outputs": [
    {
     "data": {
      "text/plain": [
       "[('okcoin', 'ltc'),\n",
       " ('kraken', 'ltc'),\n",
       " ('bitfinex', 'ltc'),\n",
       " ('huobi', 'ltc'),\n",
       " ('huobi', 'btc'),\n",
       " ('kraken', 'eth'),\n",
       " ('bittrex', 'btc'),\n",
       " ('mexbt', 'btc'),\n",
       " ('bitfinex', 'ltc'),\n",
       " ('bitmex', 'btc')]"
      ]
     },
     "execution_count": 9,
     "metadata": {},
     "output_type": "execute_result"
    }
   ],
   "source": [
    "combinations"
   ]
  },
  {
   "cell_type": "code",
   "execution_count": 10,
   "metadata": {},
   "outputs": [
    {
     "data": {
      "text/plain": [
       "[(('okcoin', 'ltc'), '2019-07-10'),\n",
       " (('okcoin', 'ltc'), '2019-06-15'),\n",
       " (('okcoin', 'ltc'), '2019-07-16')]"
      ]
     },
     "execution_count": 10,
     "metadata": {},
     "output_type": "execute_result"
    }
   ],
   "source": [
    "data = list(itertools.product(combinations, dates))\n",
    "data[:3]"
   ]
  },
  {
   "cell_type": "code",
   "execution_count": 11,
   "metadata": {},
   "outputs": [],
   "source": [
    "URL = 'http://localhost:5000/price/{exchange}/{symbol}/{date}'"
   ]
  },
  {
   "cell_type": "code",
   "execution_count": 12,
   "metadata": {},
   "outputs": [],
   "source": [
    "price_urls = [\n",
    "        URL.format(exchange=exchange, symbol=symbol, date=date)\n",
    "    for (exchange, symbol), date in data]"
   ]
  },
  {
   "cell_type": "code",
   "execution_count": 13,
   "metadata": {
    "scrolled": false
   },
   "outputs": [
    {
     "data": {
      "text/plain": [
       "['http://localhost:5000/price/okcoin/ltc/2019-07-10',\n",
       " 'http://localhost:5000/price/okcoin/ltc/2019-06-15',\n",
       " 'http://localhost:5000/price/okcoin/ltc/2019-07-16']"
      ]
     },
     "execution_count": 13,
     "metadata": {},
     "output_type": "execute_result"
    }
   ],
   "source": [
    "price_urls[:3]"
   ]
  },
  {
   "cell_type": "code",
   "execution_count": 14,
   "metadata": {},
   "outputs": [
    {
     "data": {
      "text/plain": [
       "50"
      ]
     },
     "execution_count": 14,
     "metadata": {},
     "output_type": "execute_result"
    }
   ],
   "source": [
    "len(price_urls)"
   ]
  },
  {
   "cell_type": "markdown",
   "metadata": {},
   "source": [
    "### A simple test"
   ]
  },
  {
   "cell_type": "code",
   "execution_count": 15,
   "metadata": {},
   "outputs": [],
   "source": [
    "resp = requests.get(price_urls[0])"
   ]
  },
  {
   "cell_type": "code",
   "execution_count": 16,
   "metadata": {},
   "outputs": [
    {
     "data": {
      "text/plain": [
       "{'exchange': 'okcoin',\n",
       " 'symbol': 'ltc',\n",
       " 'open': 123.26,\n",
       " 'high': 123.96,\n",
       " 'low': 118.44,\n",
       " 'close': 118.71,\n",
       " 'volume': 879.2801,\n",
       " 'day': '2019-07-10'}"
      ]
     },
     "execution_count": 16,
     "metadata": {},
     "output_type": "execute_result"
    }
   ],
   "source": [
    "resp.json()"
   ]
  },
  {
   "cell_type": "markdown",
   "metadata": {},
   "source": [
    "We'll do the same thing for all of them."
   ]
  },
  {
   "cell_type": "markdown",
   "metadata": {},
   "source": [
    "---"
   ]
  },
  {
   "cell_type": "markdown",
   "metadata": {},
   "source": [
    "# A quick `parallel` example"
   ]
  },
  {
   "cell_type": "code",
   "execution_count": 23,
   "metadata": {},
   "outputs": [],
   "source": [
    "import parallel"
   ]
  },
  {
   "cell_type": "code",
   "execution_count": 27,
   "metadata": {},
   "outputs": [],
   "source": [
    "@parallel.decorate(PR)\n",
    "def get_close_price(url):\n",
    "    resp = requests.get(url)\n",
    "    result = resp.json()\n",
    "    return result['close'] if result else None"
   ]
  },
  {
   "cell_type": "code",
   "execution_count": 28,
   "metadata": {
    "scrolled": true
   },
   "outputs": [
    {
     "data": {
      "text/plain": [
       "3582.2544"
      ]
     },
     "execution_count": 28,
     "metadata": {},
     "output_type": "execute_result"
    }
   ],
   "source": [
    "get_close_price('http://localhost:5000/price/poloniex/btc/2019-01-13')"
   ]
  },
  {
   "cell_type": "markdown",
   "metadata": {},
   "source": [
    "Parallalizing this task is a breeze:"
   ]
  },
  {
   "cell_type": "code",
   "execution_count": 29,
   "metadata": {},
   "outputs": [],
   "source": [
    "prices = get_close_price.map(price_urls, max_workers=4)"
   ]
  },
  {
   "cell_type": "code",
   "execution_count": 31,
   "metadata": {},
   "outputs": [
    {
     "data": {
      "text/plain": [
       "[118.71,\n",
       " 132.79,\n",
       " 90.57,\n",
       " 98.15,\n",
       " 118.57,\n",
       " 119.38,\n",
       " 132.68,\n",
       " 90.59,\n",
       " 98.78,\n",
       " 118.55,\n",
       " 118.92,\n",
       " 131.24,\n",
       " 90.896,\n",
       " 98.421,\n",
       " 117.44,\n",
       " 119.22,\n",
       " 132.09,\n",
       " 90.38,\n",
       " 98.25,\n",
       " 118.82,\n",
       " 12546.12,\n",
       " 8649.75,\n",
       " 10838.53,\n",
       " 10506.49,\n",
       " 10843.55,\n",
       " 307.95,\n",
       " 263.83,\n",
       " 228.13,\n",
       " 221.45,\n",
       " 291.24,\n",
       " 12577.848999999998,\n",
       " 8699,\n",
       " 10858.695,\n",
       " 10529.999,\n",
       " 10841.149,\n",
       " None,\n",
       " None,\n",
       " None,\n",
       " None,\n",
       " None,\n",
       " 118.92,\n",
       " 131.24,\n",
       " 90.896,\n",
       " 98.421,\n",
       " 117.44,\n",
       " None,\n",
       " None,\n",
       " None,\n",
       " None,\n",
       " None]"
      ]
     },
     "execution_count": 31,
     "metadata": {},
     "output_type": "execute_result"
    }
   ],
   "source": [
    "prices"
   ]
  }
 ],
 "metadata": {
  "kernelspec": {
   "display_name": "Python 3",
   "language": "python",
   "name": "python3"
  },
  "language_info": {
   "codemirror_mode": {
    "name": "ipython",
    "version": 3
   },
   "file_extension": ".py",
   "mimetype": "text/x-python",
   "name": "python",
   "nbconvert_exporter": "python",
   "pygments_lexer": "ipython3",
   "version": "3.7.4"
  }
 },
 "nbformat": 4,
 "nbformat_minor": 4
}
